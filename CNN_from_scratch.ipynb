{
  "cells": [
    {
      "cell_type": "markdown",
      "metadata": {
        "id": "view-in-github",
        "colab_type": "text"
      },
      "source": [
        "<a href=\"https://colab.research.google.com/github/gauravsharma99/cnn_from_scratch/blob/main/CNN_from_scratch.ipynb\" target=\"_parent\"><img src=\"https://colab.research.google.com/assets/colab-badge.svg\" alt=\"Open In Colab\"/></a>"
      ]
    },
    {
      "cell_type": "markdown",
      "metadata": {
        "id": "HBRJvlz5fS3s"
      },
      "source": [
        "# CNN"
      ]
    },
    {
      "cell_type": "code",
      "execution_count": null,
      "metadata": {
        "id": "bsKxb1TVfS3z"
      },
      "outputs": [],
      "source": [
        "import numpy as np\n",
        "import matplotlib.pyplot as plt\n",
        "import os\n",
        "from tqdm import tqdm\n",
        "import math\n",
        "import pickle\n",
        "import time"
      ]
    },
    {
      "cell_type": "code",
      "execution_count": null,
      "metadata": {
        "colab": {
          "background_save": true
        },
        "id": "sb1HBoFQMjn8",
        "outputId": "04ba1582-2809-4091-cb08-7f3dad730d93"
      },
      "outputs": [
        {
          "name": "stdout",
          "output_type": "stream",
          "text": [
            "Drive already mounted at /content/drive; to attempt to forcibly remount, call drive.mount(\"/content/drive\", force_remount=True).\n"
          ]
        }
      ],
      "source": [
        "from google.colab import drive\n",
        "drive.mount('/content/drive')"
      ]
    },
    {
      "cell_type": "code",
      "execution_count": null,
      "metadata": {
        "colab": {
          "background_save": true
        },
        "id": "odS5lFCyfS31"
      },
      "outputs": [],
      "source": [
        "def train_test_split(X,y,ratio=0.7):\n",
        "    num_samples=X.shape[0]\n",
        "    num_train=int(num_samples * ratio)\n",
        "    indices=np.arange(num_samples)\n",
        "    np.random.shuffle(indices)\n",
        "    train_indices = indices[:num_train]\n",
        "    test_indices = indices[num_train:]\n",
        "    X_train = X[train_indices]\n",
        "    y_train=y[train_indices]\n",
        "    X_test=X[test_indices]\n",
        "    y_test=y[test_indices]\n",
        "    return X_train,X_test,y_train,y_test"
      ]
    },
    {
      "cell_type": "code",
      "execution_count": null,
      "metadata": {
        "colab": {
          "background_save": true
        },
        "id": "fgX_dtqIfS32"
      },
      "outputs": [],
      "source": [
        "class linear:\n",
        "    def __init__(self, no_of_neurons_prev, no_of_neurons, learning_rate, reg_type = None, reg_param = None):\n",
        "        self.no_of_neurons = no_of_neurons\n",
        "        self.no_of_neurons_prev = no_of_neurons_prev\n",
        "        self.weights = np.random.randn(no_of_neurons, no_of_neurons_prev )\n",
        "        self.bias = np.random.randn(no_of_neurons)\n",
        "        self.x = None\n",
        "        self.lr = learning_rate\n",
        "        self.grad = None\n",
        "        self.reg_type = reg_type\n",
        "        self.reg_param = reg_param\n",
        "\n",
        "    def forward(self,x):\n",
        "        self.x = x\n",
        "        val = np.matmul(self.weights, x.T)\n",
        "        val = val.T +self.bias\n",
        "        return val\n",
        "\n",
        "    def get_grad(self, upward_grad):\n",
        "        self.grad= upward_grad\n",
        "        temp = np.matmul(upward_grad, self.weights )\n",
        "        return temp\n",
        "\n",
        "    def update_weights(self):\n",
        "        weight_grads = np.matmul(self.grad.T, self.x) * self.lr\n",
        "\n",
        "        temp = np.sum(self.grad, axis =0)\n",
        "        self.bias -= temp * self.lr\n",
        "\n",
        "        if self.reg_type is not None:\n",
        "            if self.reg_type == 'L2':\n",
        "                self.weights -= self.reg_param [1]* self.weights\n",
        "\n",
        "            elif self.reg_type == 'L1':\n",
        "                self.weights -=  self.reg_param [0]* np.sign(self.weights)\n",
        "\n",
        "            elif self.reg_type == 'Elastic':\n",
        "                temp = self.reg_param[0] * np.sign(self.weights) + self.reg_param[1] * self.weights\n",
        "                self.weights -= temp\n",
        "\n",
        "        self.weights -= weight_grads\n",
        "\n"
      ]
    },
    {
      "cell_type": "markdown",
      "metadata": {
        "id": "0FyFvvXbfS34"
      },
      "source": [
        "## Activation Functions"
      ]
    },
    {
      "cell_type": "code",
      "execution_count": null,
      "metadata": {
        "colab": {
          "background_save": true
        },
        "id": "wrk0nYUTfS35"
      },
      "outputs": [],
      "source": [
        "#Sigmoid Activation Function\n",
        "class sigmoid:\n",
        "    def __init__(self):\n",
        "        pass\n",
        "\n",
        "    def forward(self, x):\n",
        "        self.sigmoid_x = 1.0/(1.0 + np.exp(-x))\n",
        "        return self.sigmoid_x\n",
        "\n",
        "    def get_grad(self, outward_gradient):\n",
        "        temp = self.sigmoid_x * (1-self.sigmoid_x)\n",
        "        return  temp * outward_gradient\n",
        "\n",
        "#RELU Activation Function\n",
        "class ReLU:\n",
        "    def __init__(self):\n",
        "        pass\n",
        "\n",
        "    def forward(self, X):\n",
        "        Y = np.zeros(X.shape)\n",
        "        Y[X>0] = X[X>0]\n",
        "        self.relu_x = Y\n",
        "        return Y\n",
        "\n",
        "    def get_grad(self, outward_gradient):\n",
        "        temp = self.relu_x\n",
        "        temp[temp > 0] = 1\n",
        "        return temp * outward_gradient\n",
        "\n",
        "#Tanh Activation Function\n",
        "class Tanh():\n",
        "    def __init__(self):\n",
        "        pass\n",
        "\n",
        "    def forward(self, X):\n",
        "        self.tanhx = np.tanh(X)\n",
        "        return self.tanhx\n",
        "\n",
        "    def get_grad(self, outward_gradient):\n",
        "        temp = self.tanhx\n",
        "        temp = 1 - temp ** 2\n",
        "        return temp * outward_gradient\n",
        "\n",
        "#Softmax Activation Function\n",
        "class Softmax():\n",
        "    def __init__(self) -> None:\n",
        "        pass\n",
        "\n",
        "    def forward(self, x):\n",
        "        # e_z = np.exp(z - np.max(z, axis=1, keepdims=True))\n",
        "\n",
        "        temp = np.exp(x - np.max(x, axis=1, keepdims=True))\n",
        "        self.softm = temp / np.sum(temp, axis=1, keepdims=True)\n",
        "        return self.softm\n",
        "\n",
        "    def single_jacobian(self, Y):\n",
        "        Y_ = Y.reshape(-1,1)\n",
        "        return self.stretch*(np.diagflat(Y_)-np.dot(Y_, Y_.T))\n",
        "\n",
        "    def get_grad(self, outward_gradient):\n",
        "        op = []\n",
        "        for i in range(self.softm.shape[0]):\n",
        "            temp = np.tile(self.softm[i].reshape(-1,1),self.softm.shape[1])\n",
        "            temp1 = np.eye(self.softm.shape[1]) - temp.T\n",
        "            op1 = temp*temp1\n",
        "            op2 = outward_gradient[i].reshape(1,-1) @ op1\n",
        "            op.append(op2.flatten())\n",
        "        op = np.array(op)\n",
        "        # print(op.shape)\n",
        "        return op\n",
        "\n",
        "\n"
      ]
    },
    {
      "cell_type": "markdown",
      "metadata": {
        "id": "epFF_lRTfS36"
      },
      "source": [
        "## Loss Functions"
      ]
    },
    {
      "cell_type": "code",
      "execution_count": null,
      "metadata": {
        "colab": {
          "background_save": true
        },
        "id": "0TwYhQl7fS37"
      },
      "outputs": [],
      "source": [
        "#Mean Squared Erroe loss\n",
        "class MSE():\n",
        "    def __init__(self) :\n",
        "        self.grad = None\n",
        "        pass\n",
        "\n",
        "    def loss(self, y_pred, y_actual):\n",
        "        temp = y_pred - y_actual\n",
        "        temp = (np.linalg.norm(temp, axis =1))**2\n",
        "        self.item = np.sum(temp) / temp.shape[0]\n",
        "        return self.item\n",
        "\n",
        "    def get_grad(self, y_pred, y_actual):\n",
        "        self.grad= None\n",
        "\n",
        "        self.grad= (y_pred - y_actual)/y_pred.shape[0]\n",
        "        return self.grad\n",
        "\n",
        "#Cross Entropy Loss\n",
        "class CrossEntropy:\n",
        "    def __init__(self) -> None:\n",
        "        self.grad = None\n",
        "\n",
        "    def loss(self, y_pred, y_actual):\n",
        "        # print('Hiiiiii inside cross entropy loss')\n",
        "        # print(y_pred.shape, y_actual.shape)\n",
        "        m, n = y_pred.shape\n",
        "        true_class_probs = y_pred[np.arange(len(y_actual)), y_actual.astype(int)]\n",
        "\n",
        "        # Compute cross-entropy loss for each sample\n",
        "        loss = -np.log(true_class_probs)\n",
        "        self.item = np.sum(loss) / len(y_actual)\n",
        "        return self.item\n",
        "\n",
        "    def get_grad(self, y_pred, y_actual):\n",
        "        m, n = y_pred.shape\n",
        "        temp = 1/y_pred\n",
        "        one_hot = np.zeros((len(y_actual), n))\n",
        "        one_hot[np.arange(len(y_actual)), y_actual] = 1\n",
        "        self.grad = np.matmul(temp, one_hot.T)\n",
        "\n",
        "\n",
        "        return self.grad\n",
        "\n"
      ]
    },
    {
      "cell_type": "code",
      "execution_count": null,
      "metadata": {
        "colab": {
          "background_save": true
        },
        "id": "CT_jgibGfS38"
      },
      "outputs": [],
      "source": [
        "class flattenlayer():\n",
        "    def __init__(self) -> None:\n",
        "        pass\n",
        "\n",
        "    def forward(self,x):\n",
        "        temp = [x[i].flatten() for i in range(x.shape[0])]\n",
        "        self.from_shape = x[0].shape\n",
        "        self.to_shape = temp[0].shape\n",
        "        return np.array(temp)\n",
        "\n",
        "    def get_grad(self, upward_grad):\n",
        "        temp = upward_grad.reshape(-1, self.from_shape[0], self.from_shape[1], self.from_shape[2])\n",
        "        return np.array(temp)"
      ]
    },
    {
      "cell_type": "code",
      "execution_count": null,
      "metadata": {
        "colab": {
          "background_save": true
        },
        "id": "exOLs3YQfS38"
      },
      "outputs": [],
      "source": [
        "class MLP():\n",
        "    def __init__(self, inp_size, layers, no_of_neurons_layers, activation_type, loss_type, learning_rate, reg_type_inp, reg_para_inp, task_type):\n",
        "        self.no_layers = layers\n",
        "        self.no_of_neurons_layers =no_of_neurons_layers\n",
        "        self.layers_obj= []\n",
        "        self.lr = learning_rate\n",
        "        self.loss_fun = loss_type\n",
        "        self.task = task_type\n",
        "\n",
        "        for i in range(layers):\n",
        "            if i == 0:\n",
        "                self.layers_obj.append(linear(inp_size,\n",
        "                                              self.no_of_neurons_layers[i],\n",
        "                                              learning_rate=self.lr,\n",
        "                                              reg_type = reg_type_inp,\n",
        "                                              reg_param = reg_para_inp))\n",
        "                if activation_type[i] == 'S':\n",
        "                    self.layers_obj.append(sigmoid())\n",
        "                elif activation_type[i] == 'R':\n",
        "                    self.layers_obj.append(ReLU())\n",
        "                elif activation_type[i] == 'T':\n",
        "                    self.layers_obj.append(Tanh())\n",
        "\n",
        "            elif i == layers-1:\n",
        "                self.layers_obj.append(linear(self.no_of_neurons_layers[i-1],\n",
        "                                              self.no_of_neurons_layers[i],\n",
        "                                              learning_rate=self.lr,\n",
        "                                              reg_type = reg_type_inp,\n",
        "                                              reg_param = reg_para_inp))\n",
        "\n",
        "                if self.task == 'Classification':\n",
        "\n",
        "                    self.layers_obj.append(Softmax())\n",
        "\n",
        "            else:\n",
        "                self.layers_obj.append(linear(self.no_of_neurons_layers[i-1],\n",
        "                                              self.no_of_neurons_layers[i],\n",
        "                                              learning_rate=self.lr,\n",
        "                                              reg_type = reg_type_inp,\n",
        "                                              reg_param = reg_para_inp))\n",
        "                if activation_type[i] == 'S':\n",
        "                    self.layers_obj.append(sigmoid())\n",
        "                elif activation_type[i] == 'R':\n",
        "                    self.layers_obj.append(ReLU())\n",
        "                elif activation_type[i] == 'T':\n",
        "                    self.layers_obj.append(Tanh())\n",
        "\n",
        "\n",
        "    def forward(self,x):\n",
        "        op = x\n",
        "        for i in range(0, self.no_layers * 2 -1 ,2):\n",
        "            if i == self.no_layers * 2 -2:\n",
        "                linear_op = self.layers_obj[i].forward(op)\n",
        "                op =linear_op\n",
        "            else:\n",
        "                linear_op = self.layers_obj[i].forward(op)\n",
        "                acti_op = self.layers_obj[i+1].forward(linear_op)\n",
        "                op = acti_op\n",
        "        if self.task == 'Classification':\n",
        "            acti_op = self.layers_obj[-1].forward(op)\n",
        "            op = acti_op\n",
        "\n",
        "        self.y_pred= op\n",
        "        return op\n",
        "\n",
        "    def get_loss(self, y_pred , y):\n",
        "        self.y_actual = y\n",
        "        if self.loss_fun == 'MSE':\n",
        "            self.loss_obj = MSE()\n",
        "            return self.loss_obj.loss(y_pred,y)\n",
        "        elif self.loss_fun == 'CrossEntropy':\n",
        "            self.loss_obj = CrossEntropy()\n",
        "            return self.loss_obj.loss(y_pred, y)\n",
        "\n",
        "\n",
        "    def get_gradients(self):\n",
        "        if self.loss_fun == 'MSE':\n",
        "            upward_grad = self.loss_obj.get_grad(self.y_pred, self.y_actual)\n",
        "            for layer_id in range(self.no_layers*2-2, -1, -1):\n",
        "                lr_obj = self.layers_obj[layer_id]\n",
        "                upward_grad = lr_obj.get_grad(upward_grad)\n",
        "\n",
        "        if self.loss_fun == 'CrossEntropy':\n",
        "            one_hot = np.zeros((len(self.y_actual), self.no_of_neurons_layers[-1]))\n",
        "            one_hot[np.arange(len(self.y_actual)), self.y_actual.astype(int)] = 1\n",
        "            temp = -1 / self.y_pred\n",
        "            upward_grad = temp * one_hot\n",
        "\n",
        "            for layer_id in range(self.no_layers*2-1, -1, -1):\n",
        "                lr_obj = self.layers_obj[layer_id]\n",
        "                upward_grad = lr_obj.get_grad(upward_grad)\n",
        "            return upward_grad\n",
        "\n",
        "    def update(self):\n",
        "        for layer_id in range(0,self.no_layers,1):\n",
        "            lr_obj = self.layers_obj[layer_id*2]\n",
        "            lr_obj.update_weights()\n",
        "\n",
        "    def train(self, batch_size, number_of_epochs, x_train, y_train, x_test , y_test):\n",
        "        print('Training Started!!!')\n",
        "        no_batches = math.ceil(x_train.shape[0] / batch_size)\n",
        "        loss_epoch_train = []\n",
        "        loss_epoch_test = []\n",
        "        for epoch in tqdm(range(number_of_epochs)):\n",
        "\n",
        "            for batch_num in range(no_batches):\n",
        "                if batch_num == no_batches-1 :\n",
        "                    x = x_train[batch_num*batch_size:]\n",
        "                    y = y_train[batch_num*batch_size:]\n",
        "                else:\n",
        "                    x = x_train[batch_num*batch_size: batch_size*(batch_num +1)]\n",
        "                    y = y_train[batch_num*batch_size: batch_size*(batch_num+1)]\n",
        "\n",
        "                y_pred = self.forward( x )\n",
        "                self.get_loss(y_pred, y)\n",
        "                self.get_gradients()\n",
        "                self.update()\n",
        "\n",
        "            time.sleep(0.1)\n",
        "            # tqdm.set_description(f\"Epoch {epoch+1}/{number_of_epochs}\")\n",
        "\n",
        "\n",
        "            y_pred_whole_data = self.forward(x_train)\n",
        "            loss = self.get_loss(y_pred_whole_data, y_train)\n",
        "            # print('Train ',epoch, loss)\n",
        "            loss_epoch_train.append(loss)\n",
        "\n",
        "            y_pred_whole_data = self.forward(x_test)\n",
        "            loss = self.get_loss(y_pred_whole_data, y_test)\n",
        "            # print('Test ',epoch, loss)\n",
        "            loss_epoch_test.append(loss)\n",
        "\n",
        "\n",
        "\n",
        "        x_data = np.arange(1,number_of_epochs+1)\n",
        "        plt.plot(x_data, loss_epoch_train, c = 'b',label='Train_Loss')\n",
        "        plt.plot(x_data, loss_epoch_test, c = 'g',label='Test_loss')\n",
        "        plt.legend()\n",
        "        plt.show()\n",
        "\n",
        "    def test(self,x_test,y_test):\n",
        "        # print(self.weights)\n",
        "        y_pred=self.forward(x_test)\n",
        "        print(y_pred)\n",
        "        y_pred = np.argmax(y_pred,axis=1)\n",
        "\n",
        "        acc=np.sum(y_pred==y_test)/len(y_test)\n",
        "        return 100*acc\n",
        "\n",
        "\n",
        "\n"
      ]
    },
    {
      "cell_type": "markdown",
      "metadata": {
        "id": "eVxlyczofS3-"
      },
      "source": [
        "METRICS EVALUATION"
      ]
    },
    {
      "cell_type": "code",
      "execution_count": null,
      "metadata": {
        "colab": {
          "background_save": true
        },
        "id": "vBX8Vqr1fS3-"
      },
      "outputs": [],
      "source": [
        "def EvaluateCalssification(x_test,ytrue,model):\n",
        "    ypred=model.forward(x_test)\n",
        "\n",
        "    # Convert probabilities to class predictions\n",
        "    ypred_classes = np.argmax(ypred, axis=1)\n",
        "    print(ypred_classes)\n",
        "    acc=np.mean(ypred_classes==ytrue)\n",
        "\n",
        "    # Number of classes\n",
        "    num_classes = ypred.shape[1]\n",
        "\n",
        "    # Initialize confusion matrix\n",
        "    conf_matrix = np.zeros((num_classes, num_classes), dtype=int)\n",
        "\n",
        "    # Calculate confusion matrix\n",
        "    for i in range(len(ytrue)):\n",
        "        true_class = int(ytrue[i])\n",
        "        pred_class = int(ypred_classes[i])\n",
        "        conf_matrix[true_class][pred_class] += 1\n",
        "    plt.imshow(conf_matrix, interpolation='nearest', cmap='viridis')\n",
        "    plt.title('Confusion Matrix')\n",
        "    plt.colorbar()\n",
        "\n",
        "    # Add labels\n",
        "    num_classes = conf_matrix.shape[0]\n",
        "    plt.xticks(np.arange(num_classes))\n",
        "    plt.yticks(np.arange(num_classes))\n",
        "    plt.xlabel('Predicted label')\n",
        "    plt.ylabel('True label')\n",
        "\n",
        "    # Add text annotations\n",
        "    for i in range(num_classes):\n",
        "        for j in range(num_classes):\n",
        "            plt.text(j, i, conf_matrix[i, j], ha='center', va='center', color='red')\n",
        "\n",
        "    plt.show()\n",
        "\n",
        "    num_classes = ypred.shape[1]\n",
        "\n",
        "    # Initialize arrays to store precision, recall, and F1 score for each class\n",
        "    precision = np.zeros(num_classes)\n",
        "    recall = np.zeros(num_classes)\n",
        "    f1_score = np.zeros(num_classes)\n",
        "\n",
        "    for i in range(num_classes):\n",
        "        # Calculate true positives, false positives, false negatives for class i\n",
        "        TP = np.sum((ytrue == i) & (ypred_classes == i))\n",
        "        FP = np.sum((ytrue != i) & (ypred_classes == i))\n",
        "        FN = np.sum((ytrue == i) & (ypred_classes != i))\n",
        "\n",
        "        # Calculate precision for class i\n",
        "        precision[i] = TP / (TP + FP) if (TP + FP) > 0 else 0\n",
        "\n",
        "        # Calculate recall for class i\n",
        "        recall[i] = TP / (TP + FN) if (TP + FN) > 0 else 0\n",
        "\n",
        "        # Calculate F1 score for class i\n",
        "        f1_score[i] = 2 * precision[i] * recall[i] / (precision[i] + recall[i]) if (precision[i] + recall[i]) > 0 else 0\n",
        "\n",
        "    print(F'Accuracy for Test Data:{acc*100}%')\n",
        "    print(\"precision  : \",precision)\n",
        "    print(\"recall  :  \",recall)\n",
        "    print(\"f1_score  : \",f1_score)"
      ]
    },
    {
      "cell_type": "markdown",
      "metadata": {
        "id": "_qCJwhXNfS3_"
      },
      "source": [
        "# CNN"
      ]
    },
    {
      "cell_type": "code",
      "execution_count": null,
      "metadata": {
        "colab": {
          "background_save": true
        },
        "id": "NrvpltWCfS3_"
      },
      "outputs": [],
      "source": [
        "class Convolution:\n",
        "\n",
        "    def __init__(self,filter_size, no_filters,inp_channels, inp_img_dim, dilation=1, learning_rate=0.002, stride=1,padding=0):\n",
        "        self.layer_type ='Convolution'\n",
        "\n",
        "        self.filter_size=filter_size\n",
        "        self.no_filters= no_filters\n",
        "\n",
        "        self.inp_channels=inp_channels\n",
        "\n",
        "        self.padding=padding\n",
        "        self.stride=stride\n",
        "\n",
        "        self.filter_weights = np.random.rand(no_filters, inp_channels, filter_size, filter_size)\n",
        "\n",
        "        self.input_size = inp_img_dim\n",
        "        self.dilation = dilation\n",
        "        self.lr =learning_rate\n",
        "\n",
        "\n",
        "        self.feature_map_dim=int(((self.input_size-self.filter_size)/self.stride)+1)\n",
        "\n",
        "\n",
        "\n",
        "    def convolve(self, x, filter, stride=1, dilation=1, depth_wise=False):\n",
        "\n",
        "        new_filter_size = filter.shape[1] + (filter.shape[1]-1)*(dilation-1)\n",
        "        feature_map_dim = int((x.shape[2] - new_filter_size)/stride) + 1\n",
        "\n",
        "        if depth_wise:\n",
        "            output = np.zeros((x.shape[0], x.shape[1], feature_map_dim, feature_map_dim))\n",
        "        else:\n",
        "            output = np.zeros((x.shape[0], feature_map_dim, feature_map_dim))\n",
        "\n",
        "        for i in range(feature_map_dim):\n",
        "            for j in range(feature_map_dim):\n",
        "                patch = x[:, : , i * stride : i * stride + new_filter_size : dilation, j * stride : j * stride + new_filter_size : dilation]\n",
        "                if depth_wise:\n",
        "                    temp = np.sum( patch * (filter[np.newaxis, : ]), axis = (2,3))\n",
        "                    output[:,:,i,j] = temp\n",
        "                else:\n",
        "                    temp = np.sum( patch * (filter[np.newaxis, : ]) , axis = (1,2,3))\n",
        "                    output[:,i,j] = temp\n",
        "\n",
        "        return output\n",
        "\n",
        "\n",
        "    def forward(self,x):\n",
        "\n",
        "        new_filter_size = self.filter_size + (self.filter_size-1)*(self.dilation-1)\n",
        "        temp = int((x.shape[2] + 2*self.padding - new_filter_size)/self.stride) + 1\n",
        "\n",
        "        x = np.pad(x, ((0,0), (0,0),(self.padding, self.padding), (self.padding, self.padding)), mode=\"constant\", constant_values=0)\n",
        "        self.x = x\n",
        "\n",
        "        output_dim=(x.shape[0], self.no_filters, temp, temp)\n",
        "        output_img=np.zeros(output_dim)\n",
        "\n",
        "        for filter in range(self.no_filters):\n",
        "            temp = self.convolve(x, self.filter_weights[filter], self.stride, self.dilation)\n",
        "            output_img[:, filter, :, :] = temp\n",
        "        self.y = output_img\n",
        "\n",
        "        return output_img\n",
        "\n",
        "    def dilate_img(self, inp, dilation):\n",
        "        if dilation==1:\n",
        "            return inp\n",
        "\n",
        "        h, w = inp.shape\n",
        "        dilated_image = np.zeros((h + (h - 1) * (dilation - 1), w + (w - 1) * (dilation - 1)), dtype=inp.dtype)\n",
        "\n",
        "        dilated_image[::dilation, ::dilation] = inp\n",
        "        return dilated_image\n",
        "\n",
        "\n",
        "\n",
        "    def get_grad(self, upward_grad):\n",
        "\n",
        "        gradient_filter = np.zeros((self.no_filters, self.inp_channels, self.filter_size, self.filter_size))\n",
        "        gradient_input = np.zeros((upward_grad.shape[0], self.inp_channels, self.x.shape[2], self.x.shape[3]))\n",
        "\n",
        "        for i in range(self.no_filters):\n",
        "\n",
        "            for ind in range(self.x.shape[0]):\n",
        "\n",
        "                gradient_filter[i] += self.convolve(\n",
        "                                            self.x[ind][np.newaxis, :],\n",
        "                                            upward_grad[ind, i][np.newaxis, :],\n",
        "                                            stride=1,\n",
        "                                            dilation = self.stride,\n",
        "                                            depth_wise=True\n",
        "                                            )[0][:, :self.filter_size, :self.filter_size]\n",
        "\n",
        "\n",
        "                pad_value = self.filter_weights.shape[2]-1\n",
        "\n",
        "                dilated_out_grad = self.dilate_img(upward_grad[ind][i], self.stride)\n",
        "\n",
        "\n",
        "                padded_dilated_out_grad = np.pad(\n",
        "                                            dilated_out_grad,\n",
        "                                            ((pad_value, pad_value), (pad_value, pad_value)),\n",
        "                                            mode=\"constant\", constant_values=0\n",
        "                                            )\n",
        "\n",
        "                padded_dilated_out_grad = np.tile(padded_dilated_out_grad, (self.inp_channels, 1, 1))\n",
        "\n",
        "                rotated_filter = np.rot90(self.filter_weights[i], k=2, axes=(1,2))\n",
        "\n",
        "                grad_input_convolved = self.convolve(\n",
        "                                            padded_dilated_out_grad[np.newaxis, :],\n",
        "                                            rotated_filter,\n",
        "                                            depth_wise=True)[0]\n",
        "\n",
        "                m = min(self.x.shape[2], grad_input_convolved.shape[1])\n",
        "                n = min(self.x.shape[3], grad_input_convolved.shape[2])\n",
        "\n",
        "                gradient_input[ind][:, :m, :n] += grad_input_convolved\n",
        "\n",
        "        self.gradient_filter  = gradient_filter/self.x.shape[0]\n",
        "        upward_grad = gradient_input/self.x.shape[0]\n",
        "\n",
        "        return upward_grad\n",
        "\n",
        "\n",
        "    def update_weights(self):\n",
        "        self.filter_weights -= self.lr * self.gradient_filter\n",
        "\n"
      ]
    },
    {
      "cell_type": "code",
      "execution_count": null,
      "metadata": {
        "colab": {
          "background_save": true
        },
        "id": "P4fpxhkxfS4B"
      },
      "outputs": [],
      "source": [
        "class CNN:\n",
        "\n",
        "    def __init__(self,inp_size,inp_channel, no_layers_cnn, stride_sizes, filter_sizes,\n",
        "                 no_filters_list, act_type_cnn, no_layers_mlp, no_of_neurons_mlp,act_type_mlp,\n",
        "                  learning_rate, reg_type, reg_para):\n",
        "        self.input_size = inp_size\n",
        "        self.input_channel =inp_channel\n",
        "        self.no_layers_cnn = no_layers_cnn\n",
        "        self.stride_sizes = stride_sizes\n",
        "        self.filter_sizes = filter_sizes\n",
        "        self.no_filters_list = no_filters_list\n",
        "        self.act_type_cnn = act_type_cnn\n",
        "        self.layer_obj = []\n",
        "        self. no_layers_mlp = no_layers_mlp\n",
        "        self.no_of_neurons_mlp = no_of_neurons_mlp\n",
        "        self.act_type_mlp = act_type_mlp\n",
        "        self.lr = learning_rate\n",
        "        self.loss_fun = 'CrossEntropy'\n",
        "        self.task = 'Classification'\n",
        "        self.op_dim = None\n",
        "\n",
        "        for i in range(no_layers_cnn):\n",
        "            if i == 0:\n",
        "                obj = Convolution(filter_size = filter_sizes[i],\n",
        "                                  no_filters = no_filters_list[i],\n",
        "                                  inp_channels = inp_channel,\n",
        "                                  inp_img_dim = self.input_size,\n",
        "                                  stride=stride_sizes[i],\n",
        "                                  padding=0)\n",
        "                self.op_dim = obj.feature_map_dim\n",
        "                # print(self.op_dim)\n",
        "                self.layer_obj.append(obj)\n",
        "\n",
        "\n",
        "            else:\n",
        "                obj = Convolution(filter_size = filter_sizes[i],\n",
        "                                  no_filters = no_filters_list[i],\n",
        "                                  inp_channels = no_filters_list[i-1],\n",
        "                                  inp_img_dim = self.op_dim,\n",
        "                                  stride=stride_sizes[i],\n",
        "                                  padding=0)\n",
        "                self.op_dim = obj.feature_map_dim\n",
        "                # print(self.op_dim)\n",
        "                self.layer_obj.append(obj)\n",
        "\n",
        "            if act_type_cnn[i] == 'S':\n",
        "                self.layer_obj.append(sigmoid())\n",
        "            elif act_type_cnn[i] == 'R':\n",
        "                self.layer_obj.append(ReLU())\n",
        "            elif act_type_cnn[i] == 'T':\n",
        "                self.layer_obj.append(Tanh())\n",
        "\n",
        "        self.layer_obj.append(flattenlayer())\n",
        "\n",
        "        self.mlp_inp_size = self.op_dim ** 2 * no_filters_list[-1]\n",
        "\n",
        "        self.mlp_obj =  MLP ( self.mlp_inp_size,\n",
        "                            self.no_layers_mlp,\n",
        "                            self.no_of_neurons_mlp,\n",
        "                            activation_type = self.act_type_mlp,\n",
        "                            loss_type= self.loss_fun,\n",
        "                            learning_rate = self.lr,\n",
        "                            reg_type_inp = reg_type,\n",
        "                            reg_para_inp = reg_para,\n",
        "                            task_type = self.task)\n",
        "\n",
        "    def forward(self, x):\n",
        "        inp = x\n",
        "        self.x = x\n",
        "        for layer_id in range(len(self.layer_obj)):\n",
        "            # print('LAYER ',layer_id)\n",
        "            obj = self.layer_obj[layer_id]\n",
        "            inp = obj.forward(inp)\n",
        "        self.y_pred = self.mlp_obj.forward(inp)\n",
        "        return self.y_pred\n",
        "\n",
        "    def get_loss(self, y_pred , y):\n",
        "        self.y_actual = y\n",
        "        return self.mlp_obj.get_loss( y_pred , y)\n",
        "\n",
        "    def get_gradients(self):\n",
        "        upward_grad = self.mlp_obj.get_gradients()\n",
        "        # print(upward_grad.shape)\n",
        "        for i in range(len(self.layer_obj)-1,-1, -1):\n",
        "            upward_grad = self.layer_obj[i].get_grad(upward_grad)\n",
        "        # return upward_grad\n",
        "\n",
        "    def update(self):\n",
        "        self.mlp_obj.update()\n",
        "        for i in range(len(self.layer_obj)-3, -1, -2):\n",
        "            self.layer_obj[i].update_weights()\n",
        "\n",
        "    def train(self, batch_size, number_of_epochs, x_train, y_train, x_test , y_test):\n",
        "        no_batches = math.ceil(x_train.shape[0] / batch_size)\n",
        "        loss_epoch_train = []\n",
        "        loss_epoch_test = []\n",
        "        batch_train_loss,batch_test_loss=[],[]\n",
        "        for epoch in range(number_of_epochs):\n",
        "\n",
        "            train_loss,test_loss=[],[]\n",
        "\n",
        "            for batch_num in tqdm(range(no_batches),desc=\"Training\", unit=\"batch\"):\n",
        "                if batch_num == no_batches-1 :\n",
        "                    x = x_train[batch_num*batch_size:]\n",
        "                    y = y_train[batch_num*batch_size:]\n",
        "                else:\n",
        "                    x = x_train[batch_num*batch_size: batch_size*(batch_num +1)]\n",
        "                    y = y_train[batch_num*batch_size: batch_size*(batch_num+1)]\n",
        "\n",
        "                y_pred = self.forward( x )\n",
        "                self.get_loss(y_pred, y)\n",
        "                self.get_gradients()\n",
        "                self.update()\n",
        "\n",
        "\n",
        "                y_pred_whole_data = self.forward(x_train)\n",
        "                loss = self.get_loss(y_pred_whole_data, y_train)\n",
        "                # print('Train ',epoch, loss)\n",
        "                train_loss.append(loss)\n",
        "\n",
        "                y_pred_whole_data = self.forward(x_test)\n",
        "                loss = self.get_loss(y_pred_whole_data, y_test)\n",
        "                # print('Test ',epoch, loss)\n",
        "                test_loss.append(loss)\n",
        "\n",
        "            batch_train_loss.append(train_loss)\n",
        "            batch_test_loss.append(test_loss)\n",
        "\n",
        "            y_pred_whole_data = self.forward(x_train)\n",
        "            loss = self.get_loss(y_pred_whole_data, y_train)\n",
        "            # print('Train ',epoch, loss)\n",
        "            loss_epoch_train.append(loss)\n",
        "\n",
        "            y_pred_whole_data = self.forward(x_test)\n",
        "            loss = self.get_loss(y_pred_whole_data, y_test)\n",
        "            # print('Test ',epoch, loss)\n",
        "            loss_epoch_test.append(loss)\n",
        "\n",
        "        # x_data = np.arange(1,number_of_epochs+1)\n",
        "        # plt.plot(x_data, loss_epoch_train, c = 'b')\n",
        "        # plt.plot(x_data, loss_epoch_test, c = 'g')\n",
        "        return loss_epoch_train,loss_epoch_test,batch_train_loss,batch_test_loss\n",
        "\n",
        "    def test(self,x_test,y_test):\n",
        "        y_pred=np.argmax(self.forward(x_test),axis=1)\n",
        "        acc=np.mean(y_pred==y_test)\n",
        "        return acc\n"
      ]
    },
    {
      "cell_type": "markdown",
      "metadata": {
        "id": "ziEiTIqyfS4C"
      },
      "source": [
        "Image Dataset Classification"
      ]
    },
    {
      "cell_type": "markdown",
      "metadata": {
        "id": "8q0eKpuVfS4C"
      },
      "source": [
        "Data Loading"
      ]
    },
    {
      "cell_type": "code",
      "execution_count": null,
      "metadata": {
        "colab": {
          "background_save": true
        },
        "id": "zKU9XxIBfS4C",
        "outputId": "b1fb5e18-f9d8-412f-879f-d823358b45f2"
      },
      "outputs": [
        {
          "name": "stdout",
          "output_type": "stream",
          "text": [
            "Class '0' contains 2000 images.\n",
            "Class '1' contains 2000 images.\n"
          ]
        }
      ],
      "source": [
        "import os\n",
        "import cv2\n",
        "import numpy as np\n",
        "import warnings\n",
        "warnings.filterwarnings(\"ignore\")\n",
        "\n",
        "def load_images_from_folder(folder_path, image_size=(28, 28)):\n",
        "    images = []\n",
        "    labels = []\n",
        "    class_counts = []\n",
        "\n",
        "    # Loop through each subfolder (class) in the main folder\n",
        "    for label, class_name in enumerate(sorted(os.listdir(folder_path))):\n",
        "        class_folder = os.path.join(folder_path, class_name)\n",
        "        class_count = 0  # Count of images in the current class\n",
        "        # Loop through each image file in the class folder\n",
        "        for filename in sorted(os.listdir(class_folder)):\n",
        "            if class_count>2000:\n",
        "                break\n",
        "            img_path = os.path.join(class_folder, filename)\n",
        "            # Load the image using cv2\n",
        "            img = cv2.imread(img_path)\n",
        "            # Convert BGR to RGB color space\n",
        "            # img = cv2.cvtColor(img, cv2.COLOR_RGB2GRAY)\n",
        "            # Resize the image\n",
        "            img = cv2.resize(img, image_size)\n",
        "            # Convert pixel values to float32 and normalize to [0, 1]\n",
        "            # img = img.astype(np.float32) / 255.0\n",
        "            # Append the image and label to the lists\n",
        "            images.append(img)\n",
        "            labels.append(label)\n",
        "            class_count += 1\n",
        "        # Append the count of images in the class to the class_counts list\n",
        "        class_counts.append(class_count)\n",
        "\n",
        "    return np.array(images), np.array(labels), class_counts\n",
        "\n",
        "# Set the folder path containing the images\n",
        "folder_path = \"/content/drive/MyDrive/Files\"\n",
        "\n",
        "# Load images and labels\n",
        "images, labels, class_counts = load_images_from_folder(folder_path)\n",
        "\n",
        "# Print the count of images in each class\n",
        "for class_name, count in zip(sorted(os.listdir(folder_path)), class_counts):\n",
        "    print(f\"Class '{class_name}' contains {count} images.\")\n"
      ]
    },
    {
      "cell_type": "markdown",
      "metadata": {
        "id": "VEpy5zUafS4E"
      },
      "source": [
        "Defining Model"
      ]
    },
    {
      "cell_type": "code",
      "execution_count": null,
      "metadata": {
        "colab": {
          "background_save": true
        },
        "id": "FdA4_uxUfS4F"
      },
      "outputs": [],
      "source": [
        "CNN_model = CNN(inp_size=28,inp_channel=3, no_layers_cnn=3, stride_sizes=[3,2,2], filter_sizes=[4,5,3],\n",
        "                 no_filters_list=[3, 5, 4], act_type_cnn=['R','S','R'], no_layers_mlp= 2, no_of_neurons_mlp= [10,10],act_type_mlp=['T','S'],\n",
        "                  learning_rate=0.001, reg_type=None, reg_para=None)"
      ]
    },
    {
      "cell_type": "code",
      "execution_count": null,
      "metadata": {
        "colab": {
          "background_save": true
        },
        "id": "jrQ7sI9mfS4F"
      },
      "outputs": [],
      "source": [
        "data,y=images,labels\n",
        "data=data.transpose(0,3,1,2)\n",
        "x_train,x_test,y_train,y_test=train_test_split(data,labels)"
      ]
    },
    {
      "cell_type": "code",
      "execution_count": 72,
      "metadata": {
        "colab": {
          "base_uri": "https://localhost:8080/"
        },
        "id": "fGl0omM0fS4F",
        "outputId": "3ed9f690-e244-4818-84b9-6ade6b346b5d"
      },
      "outputs": [
        {
          "output_type": "stream",
          "name": "stderr",
          "text": [
            "Training: 100%|██████████| 22/22 [01:40<00:00,  4.59s/batch]\n",
            "Training: 100%|██████████| 22/22 [01:39<00:00,  4.53s/batch]\n",
            "Training: 100%|██████████| 22/22 [01:39<00:00,  4.51s/batch]\n"
          ]
        }
      ],
      "source": [
        "batch_size = 128\n",
        "epochs = 3\n",
        "loss_epoch_train,loss_epoch_test,batch_train_loss,batch_test_loss=CNN_model.train(batch_size, epochs, x_train , y_train , x_test , y_test)"
      ]
    },
    {
      "cell_type": "code",
      "execution_count": 73,
      "metadata": {
        "colab": {
          "base_uri": "https://localhost:8080/",
          "height": 430
        },
        "id": "wZrj2AeAfS4G",
        "outputId": "ad6d013e-988e-451c-974b-068fdae13d36"
      },
      "outputs": [
        {
          "output_type": "display_data",
          "data": {
            "text/plain": [
              "<Figure size 640x480 with 1 Axes>"
            ],
            "image/png": "[encoded data removed]"
          },
          "metadata": {}
        }
      ],
      "source": [
        "plt.plot(batch_train_loss[1],c='b')\n",
        "plt.plot(batch_test_loss[1],c='g')\n",
        "plt.show()"
      ]
    },
    {
      "cell_type": "code",
      "execution_count": 74,
      "metadata": {
        "colab": {
          "base_uri": "https://localhost:8080/"
        },
        "id": "4vg1-29nfS4G",
        "outputId": "30885ec3-f95d-4484-f0f7-2fe6be454790"
      },
      "outputs": [
        {
          "output_type": "execute_result",
          "data": {
            "text/plain": [
              "0.49333333333333335"
            ]
          },
          "metadata": {},
          "execution_count": 74
        }
      ],
      "source": [
        "# Accuracy on test data\n",
        "CNN_model.test(x_test,y_test)"
      ]
    },
    {
      "cell_type": "markdown",
      "metadata": {
        "id": "4lTZ1DnRfS4H"
      },
      "source": [
        "## Temp"
      ]
    }
  ],
  "metadata": {
    "accelerator": "GPU",
    "colab": {
      "gpuType": "T4",
      "provenance": [],
      "include_colab_link": true
    },
    "kernelspec": {
      "display_name": "Python 3",
      "name": "python3"
    },
    "language_info": {
      "codemirror_mode": {
        "name": "ipython",
        "version": 3
      },
      "file_extension": ".py",
      "mimetype": "text/x-python",
      "name": "python",
      "nbconvert_exporter": "python",
      "pygments_lexer": "ipython3",
      "version": "3.11.7"
    }
  },
  "nbformat": 4,
  "nbformat_minor": 0
}